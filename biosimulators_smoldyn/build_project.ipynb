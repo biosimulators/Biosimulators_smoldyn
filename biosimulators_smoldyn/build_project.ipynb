{
 "cells": [
  {
   "cell_type": "code",
   "execution_count": 1,
   "id": "initial_id",
   "metadata": {
    "collapsed": true,
    "ExecuteTime": {
     "end_time": "2023-11-29T21:09:45.248560Z",
     "start_time": "2023-11-29T21:09:45.244768Z"
    }
   },
   "outputs": [],
   "source": [
    "import biosimulators_utils as bu"
   ]
  },
  {
   "cell_type": "code",
   "execution_count": 3,
   "outputs": [
    {
     "name": "stdout",
     "output_type": "stream",
     "text": [
      "usage: biosimulators-utils build-project [-h]\r\n",
      "                                         model-language model-filename\r\n",
      "                                         simulation-type archive-filename\r\n",
      "\r\n",
      "Build a COMBINE/OMEX archive with a SED-ML file for a model\r\n",
      "\r\n",
      "positional arguments:\r\n",
      "  model-language    Model language (`BNGL`, `CellML`, `RBA`, `SBML`,\r\n",
      "                    `Smoldyn`, or `XPP`)\r\n",
      "  model-filename    Path to model\r\n",
      "  simulation-type   Type of simulation (`OneStep`, `SteadyState`, or\r\n",
      "                    `UniformTimeCourse`)\r\n",
      "  archive-filename  Path to save archive\r\n",
      "\r\n",
      "options:\r\n",
      "  -h, --help        show this help message and exit\r\n"
     ]
    }
   ],
   "source": [
    "!biosimulators-utils build-project --help"
   ],
   "metadata": {
    "collapsed": false,
    "ExecuteTime": {
     "end_time": "2023-11-29T21:10:11.356120Z",
     "start_time": "2023-11-29T21:10:10.815251Z"
    }
   },
   "id": "642148ae52bde1ad"
  },
  {
   "cell_type": "code",
   "execution_count": 4,
   "outputs": [],
   "source": [
    "import os\n",
    "if not os.path.isdir('tmp'):\n",
    "    os.mkdir('tmp')"
   ],
   "metadata": {
    "collapsed": false,
    "ExecuteTime": {
     "end_time": "2023-11-29T21:10:35.690051Z",
     "start_time": "2023-11-29T21:10:35.685668Z"
    }
   },
   "id": "3a618735b788d2c0"
  },
  {
   "cell_type": "code",
   "execution_count": null,
   "outputs": [],
   "source": [
    "!biosimulators-utils build-project \\\n",
    "    Smoldyn \\\n",
    "    Andrews-Min1.txt \\\n",
    "    UniformTimeCourse \\\n",
    "    tmp/Min1.omex"
   ],
   "metadata": {
    "collapsed": false
   },
   "id": "fd212178553e16c1"
  }
 ],
 "metadata": {
  "kernelspec": {
   "display_name": "Python 3",
   "language": "python",
   "name": "python3"
  },
  "language_info": {
   "codemirror_mode": {
    "name": "ipython",
    "version": 2
   },
   "file_extension": ".py",
   "mimetype": "text/x-python",
   "name": "python",
   "nbconvert_exporter": "python",
   "pygments_lexer": "ipython2",
   "version": "2.7.6"
  }
 },
 "nbformat": 4,
 "nbformat_minor": 5
}
